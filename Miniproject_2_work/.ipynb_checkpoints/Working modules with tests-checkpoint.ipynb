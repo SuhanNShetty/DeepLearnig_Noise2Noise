{
 "cells": [
  {
   "cell_type": "markdown",
   "id": "03859dde",
   "metadata": {},
   "source": [
    "Each module will be given with tests to prove it's doing it's job properly and to save it here."
   ]
  },
  {
   "cell_type": "code",
   "execution_count": 1,
   "id": "19b7a74c",
   "metadata": {},
   "outputs": [],
   "source": [
    "# Acceptable imports for project\n",
    "from torch import empty , cat , arange\n",
    "from torch.nn.functional import fold , unfold\n",
    "import math\n",
    "\n",
    "# For testing need\n",
    "import torch\n",
    "import torch.nn as nn"
   ]
  },
  {
   "cell_type": "markdown",
   "id": "601e08a8",
   "metadata": {},
   "source": [
    "## ReLU"
   ]
  },
  {
   "cell_type": "code",
   "execution_count": 2,
   "id": "f2b41a53",
   "metadata": {},
   "outputs": [],
   "source": [
    "class relu(object) :\n",
    "    def __init__(self):\n",
    "        pass\n",
    "    def forward(self, input) :\n",
    "        self.input = input\n",
    "        self.positif_mask = (input > 0)\n",
    "        return self.positif_mask*(input)\n",
    "    def backward(self, gradwrtoutput) :\n",
    "        self.input.grad = self.positif_mask.int()*gradwrtoutput\n",
    "        return self.input.grad\n",
    "    def param(self) :\n",
    "        return []"
   ]
  },
  {
   "cell_type": "code",
   "execution_count": 3,
   "id": "dbcbba07",
   "metadata": {
    "scrolled": false
   },
   "outputs": [
    {
     "name": "stdout",
     "output_type": "stream",
     "text": [
      "Difference in forward is: 0.0\n",
      "From this output:\n",
      " tensor([[[[-0.0597, -1.4054, -0.0167,  0.7760, -1.0205],\n",
      "          [ 0.9403,  1.4587,  0.4981, -0.2956, -0.6794],\n",
      "          [ 0.2983,  0.7684,  0.1283,  0.4312,  0.3987],\n",
      "          [-0.1909, -1.0144,  0.3050, -0.9059, -0.5573],\n",
      "          [ 1.3927,  0.3099, -1.5761,  0.1546, -0.2531]]]])\n",
      "We get the following backward:\n",
      " tensor([[[[-0.0000, -0.0000, -0.0000, 0.7760, -0.0000],\n",
      "          [0.9403, 1.4587, 0.4981, -0.0000, -0.0000],\n",
      "          [0.2983, 0.7684, 0.1283, 0.4312, 0.3987],\n",
      "          [-0.0000, -0.0000, 0.3050, -0.0000, -0.0000],\n",
      "          [1.3927, 0.3099, -0.0000, 0.1546, -0.0000]]]])\n"
     ]
    }
   ],
   "source": [
    "dummy_input = torch.randn(10, 5, 7, 3)\n",
    "dummy_input2 = dummy_input.detach()\n",
    "\n",
    "our_M = relu()\n",
    "true_M = nn.ReLU()\n",
    "\n",
    "out = our_M.forward(dummy_input)\n",
    "out2 = true_M(dummy_input2)\n",
    "\n",
    "print('Difference in forward is:', (out-out2).abs().sum().item())\n",
    "\n",
    "dummy_output = torch.randn(1, 1, 5, 5)\n",
    "print('From this output:\\n',dummy_output)\n",
    "_ = our_M.forward(dummy_output)\n",
    "grad = our_M.backward(dummy_output)\n",
    "print('We get the following backward:\\n',grad)"
   ]
  },
  {
   "cell_type": "markdown",
   "id": "a583db20",
   "metadata": {},
   "source": [
    "## Sigmoid"
   ]
  },
  {
   "cell_type": "code",
   "execution_count": 4,
   "id": "11b6e289",
   "metadata": {},
   "outputs": [],
   "source": [
    "class sigmoid(object) :\n",
    "    def forward(self, input) :\n",
    "        self.input = input\n",
    "        self.output = 1/(1 + math.e**(-input))\n",
    "        return  self.output\n",
    "    def backward(self, gradwrtoutput ) :\n",
    "        self.input.grad = self.output * (1-self.output) * gradwrtoutput\n",
    "        return self.input.grad\n",
    "    def param(self) :\n",
    "        return []"
   ]
  },
  {
   "cell_type": "code",
   "execution_count": 5,
   "id": "fbef77ef",
   "metadata": {},
   "outputs": [
    {
     "name": "stdout",
     "output_type": "stream",
     "text": [
      "Target is\n",
      " tensor([[[[-0.4141, -0.0572, -1.2947],\n",
      "          [-0.1265,  0.2434,  0.5600],\n",
      "          [ 0.7101,  0.0277, -1.2050]]]])\n",
      "Input is\n",
      " tensor([[[[-0.7430,  1.7515,  0.9391],\n",
      "          [-2.9050,  1.3406,  1.1136],\n",
      "          [-0.9338,  0.9406,  1.3349]]]], requires_grad=True)\n",
      "Difference in output: 9.313225746154785e-08\n"
     ]
    }
   ],
   "source": [
    "target = torch.randn(1, 1, 3, 3)\n",
    "print('Target is\\n',target)\n",
    "\n",
    "input = torch.randn(1, 1, 3, 3, requires_grad=True)\n",
    "input2 = input.detach().requires_grad_(True)\n",
    "\n",
    "print('Input is\\n',input)\n",
    "model = sigmoid()\n",
    "model2 = torch.nn.Sigmoid()\n",
    "\n",
    "out = model.forward(input)\n",
    "out2 = model2.forward(input2)\n",
    "\n",
    "print('Difference in output:', (out-out2).abs().sum().item())"
   ]
  },
  {
   "cell_type": "markdown",
   "id": "6425e964",
   "metadata": {},
   "source": [
    "## MSE"
   ]
  },
  {
   "cell_type": "code",
   "execution_count": 6,
   "id": "cb0f9bad",
   "metadata": {},
   "outputs": [],
   "source": [
    "class mse(object):\n",
    "    def forward(self, input, target):\n",
    "        self.input = input\n",
    "        self.target = target\n",
    "        return (input - target).pow(2).mean()\n",
    "    def backward(self, gradwrtoutput):\n",
    "        self.input.grad = 2*(self.input-self.target)/(self.input.size(-3)*self.input.size(-2)*self.input.size(-1))"
   ]
  },
  {
   "cell_type": "code",
   "execution_count": 7,
   "id": "7a352575",
   "metadata": {},
   "outputs": [
    {
     "name": "stdout",
     "output_type": "stream",
     "text": [
      "Our Loss is 1.1602716445922852 while true loss is 1.1602716445922852\n",
      "Difference in backward is: 1.8975697457790375e-08\n"
     ]
    }
   ],
   "source": [
    "MSE = nn.MSELoss()\n",
    "my_mse = mse()\n",
    "\n",
    "loss = my_mse.forward(out, target)\n",
    "loss2 = MSE(out2, target)\n",
    "\n",
    "print('Our Loss is',loss.item(), 'while true loss is', loss2.item())\n",
    "my_mse.backward(loss)\n",
    "model.backward(my_mse.input.grad)\n",
    "\n",
    "loss2.backward()\n",
    "\n",
    "print('Difference in backward is:', (input.grad-input2.grad).abs().sum().item())"
   ]
  },
  {
   "cell_type": "markdown",
   "id": "b843633a",
   "metadata": {},
   "source": [
    "## Convolution"
   ]
  },
  {
   "cell_type": "code",
   "execution_count": 8,
   "id": "34d5e7af",
   "metadata": {},
   "outputs": [],
   "source": [
    "class convolution(object):\n",
    "    def __init__(self, in_ch, out_ch, kernel_size = (3,3), padding = 0, stride = 1, use_bias = False):\n",
    "        self.in_ch = in_ch\n",
    "        self.out_ch = out_ch\n",
    "        self.kernel_size = kernel_size\n",
    "        self.k_1 = self.kernel_size[0]\n",
    "        self.k_2 = self.kernel_size[1]\n",
    "        self.use_bias = use_bias\n",
    "        self.stride = stride\n",
    "        self.padding = padding\n",
    "        self.kernel = empty(out_ch, in_ch, self.k_1, self.k_2).normal_()\n",
    "        self.bias = empty(out_ch).normal_() if use_bias else 0 *empty(out_ch)\n",
    "        \n",
    "    def forward(self, x):   \n",
    "        self.x = x\n",
    "        self.batch_size = x.size(0)\n",
    "        X_unf = unfold(x, kernel_size=(self.k_1, self.k_2), padding = self.padding, stride = self.stride)\n",
    "        K_expand = self.kernel.view(self.out_ch, -1)\n",
    "        O_expand = K_expand @ X_unf\n",
    "        s1 = math.ceil((x.size(-2)-self.k_1+1+self.padding*2)/(self.stride))\n",
    "        s2 = math.ceil((x.size(-1)-self.k_2+1+self.padding*2)/(self.stride))\n",
    "\n",
    "        O = O_expand.view(self.batch_size, self.out_ch, s1, s2)\n",
    "        return O + self.bias.view(1, -1, 1, 1) if self.use_bias else O\n",
    "    \n",
    "    def backward(self, gradwrtoutput):\n",
    "        kernel_back = self.kernel.flip(-2, -1).transpose(0,1)\n",
    "        s1 = self.x.size(-2)\n",
    "        s2 = self.x.size(-1)\n",
    "        \n",
    "        # backward wrt input\n",
    "        M = self.get_M(s1-self.k_1 + 1 + self.padding*2)\n",
    "        dL_dO = (M.transpose(0,1) @ gradwrtoutput) @ M\n",
    "\n",
    "        dL_dO_unf = unfold(dL_dO, kernel_size=(self.k_1, self.k_2), padding = (self.k_1 - 1 - self.padding, self.k_2-1- self.padding), stride = 1)\n",
    "        dO_dX_exp = kernel_back.reshape(self.in_ch, -1)\n",
    "        dL_dX_exp = dO_dX_exp @ dL_dO_unf\n",
    "        dL_dX = dL_dX_exp.view(self.batch_size, self.in_ch, s1, s2)\n",
    "        \n",
    "        self.dL_dO = dL_dO.transpose(0,1) # K\n",
    "        self.dO_dF = self.x.view(self.in_ch, self.batch_size, s1, s2).transpose(0,1) # X\n",
    "        \n",
    "        # backward wrt weights\n",
    "        dL_dO_unf_F = self.dL_dO.reshape(self.out_ch, -1)\n",
    "        dO_dF_exp = unfold(self.dO_dF, kernel_size = (s1 - self.k_1 +1 + self.padding*2, s2 - self.k_2 +1 + self.padding*2), padding = self.padding, stride = 1)\n",
    "        dL_dF_exp = dL_dO_unf_F @ dO_dF_exp.view(self.in_ch,-1,self.k_1*self.k_2)\n",
    "        dL_dF = dL_dF_exp.transpose(0,1).view(self.kernel.size())\n",
    "        \n",
    "        # backward wrt bias\n",
    "        if self.use_bias:\n",
    "            dL_dO_exp = self.dL_dO.reshape(self.out_ch, -1)\n",
    "            dO_dB_exp = torch.ones(self.batch_size * (s1 - self.k_1 +1 + self.padding*2) * (s2 - self.k_2 +1 + self.padding*2))\n",
    "            dL_dB = dL_dO_exp @ dO_dB_exp\n",
    "        else:\n",
    "            dL_dB = None\n",
    "        self.dL_dX = dL_dX\n",
    "        self.dL_dF = dL_dF\n",
    "        self.dL_dB = dL_dB\n",
    "        return dL_dX, dL_dF, dL_dB\n",
    "    \n",
    "    def get_M(self, N):\n",
    "        diag = empty(N)\n",
    "        eye_N = (diag == diag).float().diag()\n",
    "        return eye_N[range(0,N,self.stride)]\n",
    "        \n",
    "    def param(self) :\n",
    "        return [self.kernel, self.bias]"
   ]
  },
  {
   "cell_type": "code",
   "execution_count": 10,
   "id": "cdfd8124",
   "metadata": {},
   "outputs": [
    {
     "name": "stdout",
     "output_type": "stream",
     "text": [
      "same output of conv:  3.135204315185547e-05\n",
      "same input gradient:  2.6702880859375e-05\n",
      "same weigth gradient:  0.0\n",
      "same bias gradient:  0.0\n"
     ]
    }
   ],
   "source": [
    "# Initial parameters\n",
    "s_1, s_2 = 7,7\n",
    "k_1, k_2 = 3,3\n",
    "bs = 2\n",
    "ch_in, ch_out = 2, 4\n",
    "stride = 2\n",
    "padding = 1\n",
    "# input tensor \n",
    "X = torch.empty(bs, ch_in, s_1, s_2).normal_().requires_grad_()\n",
    "X_copy = X.clone().detach().requires_grad_()\n",
    "\n",
    "# initialize convolution moduls\n",
    "conv = convolution(ch_in, ch_out, kernel_size = (k_1, k_2), padding = padding, use_bias=True, stride = stride)\n",
    "\n",
    "# get weigts and bias\n",
    "F = conv.kernel\n",
    "B = conv.bias\n",
    "F.requires_grad_()\n",
    "B.requires_grad_()\n",
    "\n",
    "# forward\n",
    "out = conv.forward(X)\n",
    "out_compare = torch.nn.functional.conv2d(X_copy, F, bias = B, stride = stride, padding=padding)\n",
    "\n",
    "# backward\n",
    "dL_dX, dL_dF, dL_dB = conv.backward(out/out)\n",
    "out_compare.backward(out_compare/out_compare)\n",
    "\n",
    "print('same output of conv: ', (out_compare - out).abs().sum().item()) \n",
    "print('same input gradient: ', (X_copy.grad - dL_dX).abs().sum().item())\n",
    "print('same weigth gradient: ',(F.grad-dL_dF).abs().sum().item())\n",
    "print('same bias gradient: ',(B.grad-dL_dB).abs().sum().item())"
   ]
  },
  {
   "cell_type": "markdown",
   "id": "925dba8c",
   "metadata": {},
   "source": [
    "## Transposed Convolution"
   ]
  },
  {
   "cell_type": "code",
   "execution_count": null,
   "id": "5c68e8f1",
   "metadata": {},
   "outputs": [],
   "source": []
  }
 ],
 "metadata": {
  "kernelspec": {
   "display_name": "Python 3 (ipykernel)",
   "language": "python",
   "name": "python3"
  },
  "language_info": {
   "codemirror_mode": {
    "name": "ipython",
    "version": 3
   },
   "file_extension": ".py",
   "mimetype": "text/x-python",
   "name": "python",
   "nbconvert_exporter": "python",
   "pygments_lexer": "ipython3",
   "version": "3.8.12"
  }
 },
 "nbformat": 4,
 "nbformat_minor": 5
}
