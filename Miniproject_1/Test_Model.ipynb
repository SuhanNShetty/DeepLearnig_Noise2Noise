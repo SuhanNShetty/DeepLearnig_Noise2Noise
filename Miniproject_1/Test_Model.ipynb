{
 "cells": [
  {
   "cell_type": "code",
   "execution_count": 1,
   "id": "893237f8",
   "metadata": {},
   "outputs": [],
   "source": [
    "import torch\n",
    "from model import Model"
   ]
  },
  {
   "cell_type": "code",
   "execution_count": 2,
   "id": "0bd12a06",
   "metadata": {},
   "outputs": [],
   "source": [
    "test_model = Model()\n",
    "\n",
    "path_train = '../data/train_data.pkl'\n",
    "path_val = '../data/val_data.pkl'\n",
    "\n",
    "# 2 tensors of size 50000 x 3 x H x W\n",
    "# denoise model with this data\n",
    "noisy_imgs_1, noisy_imgs_2 = torch.load(path_train)\n",
    "noisy_imgs_1 = (noisy_imgs_1.float()/256).to(test_model.device)\n",
    "noisy_imgs_2 = (noisy_imgs_2.float()/256).to(test_model.device)\n",
    "noisy_imgs, clean_imgs = torch.load(path_val)\n",
    "\n",
    "noisy_imgs = (noisy_imgs.float()/256).to(test_model.device)\n",
    "clean_imgs = (clean_imgs.float()/256).to(test_model.device)\n",
    "\n",
    "torch.cuda.empty_cache()"
   ]
  },
  {
   "cell_type": "code",
   "execution_count": 3,
   "id": "bb1cc91a",
   "metadata": {},
   "outputs": [
    {
     "name": "stdout",
     "output_type": "stream",
     "text": [
      "True\n"
     ]
    }
   ],
   "source": [
    "dummy_input = torch.empty((1,3,11,11)).normal_()\n",
    "test_model.predict(dummy_input);\n",
    "\n",
    "print(torch.cuda.is_available())"
   ]
  },
  {
   "cell_type": "code",
   "execution_count": null,
   "id": "d31c2181",
   "metadata": {},
   "outputs": [
    {
     "name": "stderr",
     "output_type": "stream",
     "text": [
      "100%|████████████████████████████████████████████████████████████████████████████████| 100/100 [07:46<00:00,  4.99s/it]"
     ]
    }
   ],
   "source": [
    "test_model.train(noisy_imgs_1, noisy_imgs_2, 100)"
   ]
  },
  {
   "cell_type": "code",
   "execution_count": null,
   "id": "7ae02177",
   "metadata": {},
   "outputs": [],
   "source": [
    "out = test_model.predict(noisy_imgs[0]);"
   ]
  },
  {
   "cell_type": "code",
   "execution_count": null,
   "id": "e1fbd10f",
   "metadata": {},
   "outputs": [],
   "source": [
    "import matplotlib.pyplot as plt\n",
    "import torchvision.transforms as T \n",
    "from PIL import Image\n",
    "\n",
    "transform = T.ToPILImage()\n",
    "plt.figure(figsize = [10, 5])\n",
    "plt.subplot(2,1,1)\n",
    "plt.imshow(transform((noisy_imgs[0])));\n",
    "plt.subplot(2,1,2)\n",
    "plt.imshow(transform(out));"
   ]
  },
  {
   "cell_type": "code",
   "execution_count": null,
   "id": "545653a4",
   "metadata": {},
   "outputs": [],
   "source": [
    "def psnr(denoised, ground_truth):\n",
    "    # Peak Signal to Noise Ratio: denoised and ground_truth have range [0,1]\n",
    "    mse = torch.mean((denoised - ground_truth) ** 2)\n",
    "    return -10 * torch.log10(mse + 10**-8)"
   ]
  }
 ],
 "metadata": {
  "kernelspec": {
   "display_name": "Python 3 (ipykernel)",
   "language": "python",
   "name": "python3"
  },
  "language_info": {
   "codemirror_mode": {
    "name": "ipython",
    "version": 3
   },
   "file_extension": ".py",
   "mimetype": "text/x-python",
   "name": "python",
   "nbconvert_exporter": "python",
   "pygments_lexer": "ipython3",
   "version": "3.8.12"
  }
 },
 "nbformat": 4,
 "nbformat_minor": 5
}
