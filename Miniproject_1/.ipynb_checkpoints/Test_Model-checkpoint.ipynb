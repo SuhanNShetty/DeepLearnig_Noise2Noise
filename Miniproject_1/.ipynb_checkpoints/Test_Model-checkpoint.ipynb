{
 "cells": [
  {
   "cell_type": "code",
   "execution_count": 2,
   "metadata": {},
   "outputs": [
    {
     "ename": "TypeError",
     "evalue": "__init__() takes 1 positional argument but 2 were given",
     "output_type": "error",
     "traceback": [
      "\u001b[0;31m---------------------------------------------------------------------------\u001b[0m",
      "\u001b[0;31mTypeError\u001b[0m                                 Traceback (most recent call last)",
      "\u001b[0;32m<ipython-input-2-1187f8cedee6>\u001b[0m in \u001b[0;36m<module>\u001b[0;34m\u001b[0m\n\u001b[1;32m      6\u001b[0m \u001b[0mdevice\u001b[0m \u001b[0;34m=\u001b[0m  \u001b[0;34m'cpu'\u001b[0m \u001b[0;31m#'cuda' if torch.cuda.is_available() else 'cpu'\u001b[0m\u001b[0;34m\u001b[0m\u001b[0;34m\u001b[0m\u001b[0m\n\u001b[1;32m      7\u001b[0m \u001b[0;34m\u001b[0m\u001b[0m\n\u001b[0;32m----> 8\u001b[0;31m \u001b[0mmod\u001b[0m \u001b[0;34m=\u001b[0m \u001b[0mModel\u001b[0m\u001b[0;34m(\u001b[0m\u001b[0mdevice\u001b[0m\u001b[0;34m)\u001b[0m\u001b[0;34m\u001b[0m\u001b[0;34m\u001b[0m\u001b[0m\n\u001b[0m\u001b[1;32m      9\u001b[0m \u001b[0;34m\u001b[0m\u001b[0m\n\u001b[1;32m     10\u001b[0m \u001b[0mpath_train\u001b[0m \u001b[0;34m=\u001b[0m \u001b[0;34m'../data/train_data.pkl'\u001b[0m\u001b[0;34m\u001b[0m\u001b[0;34m\u001b[0m\u001b[0m\n",
      "\u001b[0;31mTypeError\u001b[0m: __init__() takes 1 positional argument but 2 were given"
     ]
    }
   ],
   "source": [
    "import torch\n",
    "from model import Model\n",
    "import matplotlib.pyplot as plt\n",
    "import torchvision.transforms as T \n",
    "from PIL import Image\n",
    "device =  'cpu' #'cuda' if torch.cuda.is_available() else 'cpu'\n",
    "\n",
    "mod = Model(device=device)\n",
    "\n",
    "path_train = '../data/train_data.pkl'\n",
    "path_val = '../data/val_data.pkl'\n",
    "\n",
    "noisy_imgs_1, noisy_imgs_2 = torch.load(path_train)\n",
    "noisy_imgs_1 = noisy_imgs_1[0:1000]\n",
    "noisy_imgs_2 = noisy_imgs_2[0:1000]\n",
    "\n",
    "noisy_imgs , clean_imgs = torch.load(path_val)\n",
    "# noisy_imgs = noisy_imgs.float()/256\n",
    "# clean_imgs = clean_imgs.float()/256\n",
    "\n",
    "mod.train(noisy_imgs_1, noisy_imgs_2, 200)\n",
    "\n",
    "out = mod.predict(noisy_imgs)"
   ]
  },
  {
   "cell_type": "code",
   "execution_count": null,
   "metadata": {},
   "outputs": [],
   "source": [
    "transform = T.ToPILImage()\n",
    "plt.figure(figsize = [10, 5])\n",
    "plt.subplot(1, 3,1)\n",
    "plt.imshow(transform(noisy_imgs[20]));\n",
    "plt.subplot(1, 3,2)\n",
    "plt.imshow(transform(out[20]/256));\n",
    "plt.subplot(1, 3,3)\n",
    "plt.imshow(transform(clean_imgs[20]));"
   ]
  },
  {
   "cell_type": "code",
   "execution_count": null,
   "metadata": {},
   "outputs": [],
   "source": [
    "def psnr(denoised, ground_truth):\n",
    "    mse = torch.mean((denoised-ground_truth)**2)\n",
    "    return -10 * torch.log10(mse + 10**(-8))\n",
    "\n",
    "psnr(out.cpu().float()/256, clean_imgs.float()/256)\n",
    "\n",
    "import matplotlib.pyplot as plt\n",
    "plt.plot(mod.loss_train.detach().cpu())\n",
    "plt.plot(mod.loss_valid.detach().cpu())"
   ]
  },
  {
   "cell_type": "code",
   "execution_count": null,
   "metadata": {},
   "outputs": [],
   "source": []
  }
 ],
 "metadata": {
  "kernelspec": {
   "display_name": "Python 3",
   "language": "python",
   "name": "python3"
  },
  "language_info": {
   "codemirror_mode": {
    "name": "ipython",
    "version": 3
   },
   "file_extension": ".py",
   "mimetype": "text/x-python",
   "name": "python",
   "nbconvert_exporter": "python",
   "pygments_lexer": "ipython3",
   "version": "3.8.5"
  }
 },
 "nbformat": 4,
 "nbformat_minor": 5
}
