{
 "cells": [
  {
   "cell_type": "code",
   "execution_count": 4,
   "metadata": {},
   "outputs": [
    {
     "name": "stdout",
     "output_type": "stream",
     "text": [
      "torch.Size([1000, 3, 32, 32])\n",
      "torch.Size([1000, 3, 32, 32])\n",
      "torch.Size([1000, 3, 32, 32])\n",
      "torch.Size([1000, 3, 32, 32])\n",
      "torch.Size([1000, 3, 1, 1])\n"
     ]
    }
   ],
   "source": [
    "import torch\n",
    "\n",
    "torch.cuda.empty_cache()\n",
    "\n",
    "path_train = '../data/train_data.pkl'\n",
    "path_val = '../data/val_data.pkl'\n",
    "\n",
    "device = torch.device('cuda' if torch.cuda.is_available() else 'cpu')\n",
    "\n",
    "# 2 tensors of size 50000 x 3 x H x W\n",
    "# denoise model with this data\n",
    "noisy_imgs_1, noisy_imgs_2 = torch.load(path_train)\n",
    "noisy_imgs_1 = noisy_imgs_1[0:1000].type(torch.float)\n",
    "noisy_imgs_2 = noisy_imgs_2[0:1000].type(torch.float)\n",
    "\n",
    "# Normalize\n",
    "norm_mean_1 = noisy_imgs_1.mean(dim = [2,3], keepdim = True)\n",
    "norm_mean_2 = noisy_imgs_2.mean(dim = [2,3], keepdim = True)\n",
    "norm_std_1 = noisy_imgs_1.std(dim = [2,3], keepdim = True)\n",
    "norm_std_2 = noisy_imgs_2.std(dim = [2,3], keepdim = True)\n",
    "\n",
    "norm_imgs_1 = (noisy_imgs_1 - norm_mean_1) / norm_std_1\n",
    "norm_imgs_2 = (noisy_imgs_2 - norm_mean_2) / norm_std_2\n",
    "\n",
    "# Track the progress with this data\n",
    "noisy_imgs , clean_imgs = torch.load(path_val)\n",
    "print(noisy_imgs_1.size())\n",
    "print(noisy_imgs_2.size())\n",
    "print(noisy_imgs.size())\n",
    "\n",
    "print(clean_imgs.size())\n",
    "\n",
    "norm_mean_1 = norm_mean_1.to(device)\n",
    "norm_mean_2 = norm_mean_2.to(device)\n",
    "norm_std_1 = norm_std_1.to(device)\n",
    "norm_std_2 = norm_std_2.to(device)\n",
    "\n",
    "print(norm_std_1.size())"
   ]
  },
  {
   "cell_type": "code",
   "execution_count": 2,
   "metadata": {},
   "outputs": [
    {
     "data": {
      "image/png": "[encoded data removed]",
      "text/plain": [
       "<Figure size 720x360 with 2 Axes>"
      ]
     },
     "metadata": {
      "needs_background": "light"
     },
     "output_type": "display_data"
    }
   ],
   "source": [
    "import matplotlib.pyplot as plt\n",
    "plt.figure(figsize = [10, 5])\n",
    "plt.subplot(2,1,1)\n",
    "plt.imshow(noisy_imgs_1[100,0]);\n",
    "plt.subplot(2,1,2)\n",
    "plt.imshow(noisy_imgs_2[100,0]);"
   ]
  },
  {
   "cell_type": "code",
   "execution_count": 3,
   "metadata": {},
   "outputs": [
    {
     "data": {
      "image/png": "[encoded data removed]",
      "text/plain": [
       "<Figure size 720x360 with 2 Axes>"
      ]
     },
     "metadata": {
      "needs_background": "light"
     },
     "output_type": "display_data"
    }
   ],
   "source": [
    "import matplotlib.pyplot as plt\n",
    "plt.figure(figsize = [10, 5])\n",
    "plt.subplot(2,1,1)\n",
    "plt.imshow(noisy_imgs[0,0]);\n",
    "plt.subplot(2,1,2)\n",
    "plt.imshow(clean_imgs[0,0]);"
   ]
  },
  {
   "cell_type": "markdown",
   "metadata": {},
   "source": [
    "The goal is to find a model $\\phi$:\n",
    "$$\\phi(\\hat{X}) = X$$\n",
    "Quadratic loss: \n",
    "$$\\hat{w} = argmin \\frac{1}{N} \\sum_{n=1}^N || x_n - \\phi(x_n + \\epsilon_n;w) || ^2$$\n",
    "* $x_n$: data samples\n",
    "* $\\epsilon_n$ : gaussian noise"
   ]
  },
  {
   "cell_type": "code",
   "execution_count": 4,
   "metadata": {},
   "outputs": [],
   "source": [
    "import torch.nn.functional as F\n",
    "import torch.nn as nn\n",
    "\n",
    "model_old = nn.Sequential(\n",
    "    nn.Linear(32, 100),\n",
    "    nn.ReLU(),\n",
    "    nn.Linear(100,32)\n",
    ")\n",
    "\n",
    "model = nn.Sequential(\n",
    "    nn.Conv2d(3, 32, 3),\n",
    "    nn.ReLU(),\n",
    "    nn.Conv2d(32, 32, 3),\n",
    "    nn.ReLU(),\n",
    "    nn.Conv2d(32, 32, 3),\n",
    "    nn.ReLU(),    \n",
    "    nn.Conv2d(32, 8, 3),\n",
    "    nn.ReLU(),\n",
    "    nn.ConvTranspose2d(8, 32, 3),\n",
    "    nn.ReLU(),\n",
    "    nn.ConvTranspose2d(32, 32, 3),\n",
    "    nn.ReLU(),\n",
    "    nn.ConvTranspose2d(32, 32, 3),\n",
    "    nn.ReLU(),\n",
    "    nn.ConvTranspose2d(32, 3, 3)\n",
    ")"
   ]
  },
  {
   "cell_type": "code",
   "execution_count": 5,
   "metadata": {},
   "outputs": [],
   "source": [
    "class Model_sum(nn.Module):\n",
    "    def __init__(self):\n",
    "        super().__init__()\n",
    "        self.conv1 = nn.Conv2d(3, 24, 3, padding=1, padding_mode = pad_mode)\n",
    "        self.conv2 = nn.Conv2d(24, 24, 3, padding=1, padding_mode = pad_mode)\n",
    "        self.conv3 = nn.Conv2d(24, 24, 3, padding=1, padding_mode = pad_mode)\n",
    "        self.conv4 = nn.Conv2d(24, 8, 3, padding=1, padding_mode = pad_mode)\n",
    "        self.deconv1 = nn.ConvTranspose2d(8, 24, 3, padding=1)\n",
    "        self.deconv2 = nn.ConvTranspose2d(24, 24, 3, padding=1)\n",
    "        self.deconv3 = nn.ConvTranspose2d(24, 24, 3, padding=1)\n",
    "        self.deconv4 = nn.ConvTranspose2d(24, 3, 3, padding=1)\n",
    "#         self.maxpool = F.max_pool2d(2)\n",
    "        self.relu = nn.ReLU()\n",
    "        self.lerelu = nn.LeakyReLU(0.1)\n",
    "        self.upsample = nn.Upsample(scale_factor=2, mode='nearest')\n",
    "    def forward(self, x):\n",
    "        x1 = self.lerelu(self.conv1(x))\n",
    "        x2 = self.lerelu(self.conv2(x1))\n",
    "        x3 = self.lerelu(F.max_pool2d(x2, kernel_size = 2))\n",
    "        x4 = self.lerelu(self.conv3(x3))\n",
    "        x5 = self.lerelu(F.max_pool2d(x4, kernel_size = 2))\n",
    "        x6 = self.lerelu(self.conv4(x5))\n",
    "        x7 = self.lerelu(self.deconv1(x6)) + x5\n",
    "        x7 = self.lerelu(self.upsample(x7))\n",
    "        x7 = self.lerelu(self.deconv2(x7)) + x3\n",
    "        x7 = self.lerelu(self.upsample(x7))\n",
    "        x7 = self.lerelu(self.deconv3(x7)) + x1\n",
    "        x7 = self.relu(self.deconv4(x7)) + x\n",
    "        return x7\n"
   ]
  },
  {
   "cell_type": "code",
   "execution_count": 40,
   "metadata": {},
   "outputs": [
    {
     "name": "stderr",
     "output_type": "stream",
     "text": [
      "C:\\Users\\fcent\\AppData\\Local\\Temp\\ipykernel_23576\\2610593444.py:8: UserWarning: nn.init.xavier_uniform is now deprecated in favor of nn.init.xavier_uniform_.\n",
      "  torch.nn.init.xavier_uniform(model.weight)\n",
      "C:\\Users\\fcent\\AppData\\Local\\Temp\\ipykernel_23576\\2610593444.py:11: UserWarning: nn.init.xavier_uniform is now deprecated in favor of nn.init.xavier_uniform_.\n",
      "  torch.nn.init.xavier_uniform(model.weight)\n"
     ]
    },
    {
     "data": {
      "text/plain": [
       "Model_conc(\n",
       "  (conv1): Conv2d(3, 24, kernel_size=(3, 3), stride=(1, 1), padding=(1, 1), padding_mode=reflect)\n",
       "  (conv2): Conv2d(24, 24, kernel_size=(3, 3), stride=(1, 1), padding=(1, 1), padding_mode=reflect)\n",
       "  (conv3): Conv2d(24, 24, kernel_size=(3, 3), stride=(1, 1), padding=(1, 1), padding_mode=reflect)\n",
       "  (conv4): Conv2d(24, 8, kernel_size=(3, 3), stride=(1, 1), padding=(1, 1), padding_mode=reflect)\n",
       "  (conv5): Conv2d(6, 3, kernel_size=(3, 3), stride=(1, 1), padding=(1, 1), padding_mode=reflect)\n",
       "  (deconv1): ConvTranspose2d(8, 24, kernel_size=(3, 3), stride=(1, 1), padding=(1, 1))\n",
       "  (deconv2): ConvTranspose2d(48, 24, kernel_size=(3, 3), stride=(1, 1), padding=(1, 1))\n",
       "  (deconv3): ConvTranspose2d(48, 24, kernel_size=(3, 3), stride=(1, 1), padding=(1, 1))\n",
       "  (deconv4): ConvTranspose2d(48, 3, kernel_size=(3, 3), stride=(1, 1), padding=(1, 1))\n",
       "  (relu): ReLU()\n",
       "  (lerelu): LeakyReLU(negative_slope=0.1)\n",
       "  (upsample): Upsample(scale_factor=2.0, mode=nearest)\n",
       ")"
      ]
     },
     "execution_count": 40,
     "metadata": {},
     "output_type": "execute_result"
    }
   ],
   "source": [
    "import torch.nn.functional as F\n",
    "\n",
    "pad_mode = 'reflect'\n",
    "\n",
    "def init_weights(model):\n",
    "    if isinstance(model, nn.Conv2d):\n",
    "        torch.nn.init.xavier_uniform(model.weight)\n",
    "        model.bias.data.fill_(0.01)\n",
    "    if isinstance(model, nn.ConvTranspose2d):\n",
    "        torch.nn.init.xavier_uniform(model.weight)\n",
    "        model.bias.data.fill_(0.01)\n",
    "class Model_conc(nn.Module):\n",
    "    def __init__(self):\n",
    "        super().__init__()\n",
    "        self.conv1 = nn.Conv2d(3, 24, 3, padding=1, padding_mode = pad_mode)\n",
    "        self.conv2 = nn.Conv2d(24, 24, 3, padding=1, padding_mode = pad_mode)\n",
    "        self.conv3 = nn.Conv2d(24, 24, 3, padding=1, padding_mode = pad_mode)\n",
    "        self.conv4 = nn.Conv2d(24, 8, 3, padding=1, padding_mode = pad_mode)\n",
    "        self.conv5 = nn.Conv2d(6, 3, 3, padding=1, padding_mode = pad_mode)\n",
    "        self.deconv1 = nn.ConvTranspose2d(8, 24, 3, padding=1)\n",
    "        self.deconv2 = nn.ConvTranspose2d(48, 24, 3, padding=1)\n",
    "        self.deconv3 = nn.ConvTranspose2d(48, 24, 3, padding=1)\n",
    "        self.deconv4 = nn.ConvTranspose2d(48, 3, 3, padding=1)\n",
    "#         self.maxpool = F.max_pool2d(2)\n",
    "        self.relu = nn.ReLU()\n",
    "        self.lerelu = nn.LeakyReLU(0.1)\n",
    "        self.upsample = nn.Upsample(scale_factor=2, mode='nearest')\n",
    "    def forward(self, x):\n",
    "        \n",
    "        x1 = self.lerelu(self.conv1(x))\n",
    "        x2 = self.lerelu(self.conv2(x1))\n",
    "        x3 = self.lerelu(F.max_pool2d(x2, kernel_size = 2))\n",
    "        x4 = self.lerelu(self.conv3(x3))\n",
    "        x5 = self.lerelu(F.max_pool2d(x4, kernel_size = 2))\n",
    "        x6 = self.lerelu(self.conv4(x5))\n",
    "        x7 = torch.cat((self.lerelu(self.deconv1(x6)), x5), 1)\n",
    "        x7 = self.lerelu(self.upsample(x7))\n",
    "        x7 = torch.cat((self.lerelu(self.deconv2(x7)), x3), 1)\n",
    "        x7 = self.lerelu(self.upsample(x7))\n",
    "        x7 = torch.cat((self.lerelu(self.deconv2(x7)), x1), 1)\n",
    "        x7 = self.lerelu(self.deconv4(x7))\n",
    "        x7 = torch.cat((x7, x), 1)\n",
    "        x7 = self.relu(self.conv5(x7))\n",
    "        return x7\n",
    "model = Model_conc()\n",
    "model.apply(init_weights)"
   ]
  },
  {
   "cell_type": "code",
   "execution_count": null,
   "metadata": {},
   "outputs": [],
   "source": []
  },
  {
   "cell_type": "code",
   "execution_count": 41,
   "metadata": {},
   "outputs": [
    {
     "name": "stderr",
     "output_type": "stream",
     "text": [
      "100%|██████████████████████████████████████████████████████████████████████████████| 1000/1000 [04:06<00:00,  4.06it/s]\n"
     ]
    }
   ],
   "source": [
    "from torch import nn\n",
    "from tqdm import tqdm\n",
    "import torch \n",
    "import torchvision \n",
    "import torchvision.transforms as T \n",
    "from PIL import Image\n",
    "\n",
    "model = Model_conc().to(device)\n",
    "\n",
    "transform = T.ToPILImage()\n",
    "\n",
    "batch_size, nb_epochs = 100, 1000\n",
    "optimizer = torch.optim.Adam(model.parameters(), lr = 1e-3)\n",
    "mse = nn.MSELoss()\n",
    "mse.to(device)\n",
    "\n",
    "total_loss_conc = []\n",
    "\n",
    "for e in tqdm(range(nb_epochs)):\n",
    "    input = norm_imgs_1.to(device).split(batch_size)\n",
    "    target = norm_imgs_2.to(device).split(batch_size)\n",
    "    loss = 0\n",
    "    for i in range(len(input)):\n",
    "        output = model(input[i])\n",
    "        loss += mse(output, target[i])\n",
    "        \n",
    "    optimizer.zero_grad()\n",
    "    loss.backward()\n",
    "    optimizer.step()\n",
    "    total_loss_conc.append(loss.item())"
   ]
  },
  {
   "cell_type": "code",
   "execution_count": 42,
   "metadata": {},
   "outputs": [
    {
     "data": {
      "image/png": "[encoded data removed]",
      "text/plain": [
       "<Figure size 432x288 with 3 Axes>"
      ]
     },
     "metadata": {
      "needs_background": "light"
     },
     "output_type": "display_data"
    },
    {
     "name": "stdout",
     "output_type": "stream",
     "text": [
      "0.13090023398399353\n",
      "0.2925923764705658\n"
     ]
    },
    {
     "data": {
      "image/png": "[encoded data removed]",
      "text/plain": [
       "<Figure size 432x288 with 1 Axes>"
      ]
     },
     "metadata": {
      "needs_background": "light"
     },
     "output_type": "display_data"
    }
   ],
   "source": [
    "plt.figure()\n",
    "n = 8\n",
    "m = 10\n",
    "plt.subplot(1, 3, 1)\n",
    "plt.imshow(transform(input[n][m] * norm_std_1[n*100 + m] + norm_mean_1[n*100 + m]))\n",
    "plt.subplot(1, 3, 2)\n",
    "plt.imshow(transform(output[m] * norm_std_1[n*100 + m] + norm_mean_1[n*100 + m]))\n",
    "plt.subplot(1, 3, 3)\n",
    "# plt.imshow(transform(target[n][m] * norm_std_2[n *100 + m] + norm_mean_2[n*100 + m]))\n",
    "plt.imshow(transform((input[n][m] - target[n][m])**2))\n",
    "plt.show()\n",
    "\n",
    "plt.figure()\n",
    "plt.plot(total_loss_conc)\n",
    "print(mse(input[8][0], target[8][0]).item())\n",
    "print(mse(output[0], target[9][0]).item())"
   ]
  },
  {
   "cell_type": "code",
   "execution_count": 9,
   "metadata": {},
   "outputs": [
    {
     "name": "stderr",
     "output_type": "stream",
     "text": [
      "100%|████████████████████████████████████████████████████████████████████████████████| 250/250 [00:38<00:00,  6.53it/s]\n"
     ]
    }
   ],
   "source": [
    "model = Model_sum().to(device)\n",
    "\n",
    "transform = T.ToPILImage()\n",
    "\n",
    "batch_size, nb_epochs = 100, 250\n",
    "optimizer = torch.optim.Adam(model.parameters(), lr = 1e-3)\n",
    "mse = nn.MSELoss()\n",
    "mse.to(device)\n",
    "\n",
    "total_loss_sum = []\n",
    "\n",
    "for e in tqdm(range(nb_epochs)):\n",
    "    input = norm_imgs_1.to(device).split(batch_size)\n",
    "    target = norm_imgs_2.to(device).split(batch_size)\n",
    "    loss = 0\n",
    "    for i in range(len(input)):\n",
    "        output = model(input[i])\n",
    "        loss += mse(output, target[i])\n",
    "        \n",
    "    optimizer.zero_grad()\n",
    "    loss.backward()\n",
    "    optimizer.step()\n",
    "    total_loss_sum.append(loss.item())"
   ]
  },
  {
   "cell_type": "code",
   "execution_count": 10,
   "metadata": {},
   "outputs": [
    {
     "data": {
      "image/png": "[encoded data removed]",
      "text/plain": [
       "<Figure size 432x288 with 3 Axes>"
      ]
     },
     "metadata": {
      "needs_background": "light"
     },
     "output_type": "display_data"
    },
    {
     "name": "stdout",
     "output_type": "stream",
     "text": [
      "0.1451452672481537\n",
      "0.12871383130550385\n",
      "0.010999428108334541\n"
     ]
    },
    {
     "data": {
      "image/png": "[encoded data removed]",
      "text/plain": [
       "<Figure size 432x288 with 1 Axes>"
      ]
     },
     "metadata": {
      "needs_background": "light"
     },
     "output_type": "display_data"
    }
   ],
   "source": [
    "plt.figure()\n",
    "plt.subplot(1, 3, 1)\n",
    "plt.imshow(transform(input[9][0]))\n",
    "plt.subplot(1, 3, 2)\n",
    "plt.imshow(transform(output[0]))\n",
    "plt.subplot(1, 3, 3)\n",
    "plt.imshow(transform(target[9][0]))\n",
    "plt.show()\n",
    "\n",
    "plt.figure()\n",
    "plt.plot(total_loss_sum)\n",
    "print(mse(input[9][0], target[9][0]).item())\n",
    "print(mse(output[0], target[9][0]).item())\n",
    "print(mse(output[0], input[9][0]).item())"
   ]
  },
  {
   "cell_type": "code",
   "execution_count": 11,
   "metadata": {},
   "outputs": [
    {
     "name": "stdout",
     "output_type": "stream",
     "text": [
      "0.1451452672481537\n"
     ]
    }
   ],
   "source": [
    "print(mse(input[9][0], target[9][0]).item())"
   ]
  },
  {
   "cell_type": "code",
   "execution_count": 46,
   "metadata": {},
   "outputs": [
    {
     "name": "stdout",
     "output_type": "stream",
     "text": [
      "tensor([[[ 0.,  1.,  2.,  3.],\n",
      "         [ 4.,  5.,  6.,  7.],\n",
      "         [ 8.,  9., 10., 11.],\n",
      "         [12., 13., 14., 15.]]])\n",
      "tensor([[[[ 0.,  5.,  5.],\n",
      "          [10., 30., 20.],\n",
      "          [10., 25., 15.]]]])\n"
     ]
    }
   ],
   "source": [
    "a = torch.arange(0,4**2).view(1,4,4).float()\n",
    "print(a)\n",
    "print(torch.nn.functional.fold(a, output_size = (3,3), kernel_size = (2,2)))"
   ]
  },
  {
   "cell_type": "code",
   "execution_count": 59,
   "metadata": {},
   "outputs": [
    {
     "name": "stdout",
     "output_type": "stream",
     "text": [
      "tensor([[[[1., 1., 1., 1., 1., 1., 1., 1., 1., 1., 1., 1., 1., 1., 1., 1.],\n",
      "          [1., 1., 1., 1., 1., 1., 1., 1., 1., 1., 1., 1., 1., 1., 1., 1.],\n",
      "          [1., 1., 1., 1., 1., 1., 1., 1., 1., 1., 1., 1., 1., 1., 1., 1.],\n",
      "          [1., 1., 1., 1., 1., 1., 1., 1., 1., 1., 1., 1., 1., 1., 1., 1.],\n",
      "          [1., 1., 1., 1., 1., 1., 1., 1., 1., 1., 1., 1., 1., 1., 1., 1.],\n",
      "          [1., 1., 1., 1., 1., 1., 1., 1., 1., 1., 1., 1., 1., 1., 1., 1.],\n",
      "          [1., 1., 1., 1., 1., 1., 1., 1., 1., 1., 1., 1., 1., 1., 1., 1.],\n",
      "          [1., 1., 1., 1., 1., 1., 1., 1., 1., 1., 1., 1., 1., 1., 1., 1.],\n",
      "          [1., 1., 1., 1., 1., 1., 1., 1., 1., 1., 1., 1., 1., 1., 1., 1.],\n",
      "          [1., 1., 1., 1., 1., 1., 1., 1., 1., 1., 1., 1., 1., 1., 1., 1.],\n",
      "          [1., 1., 1., 1., 1., 1., 1., 1., 1., 1., 1., 1., 1., 1., 1., 1.],\n",
      "          [1., 1., 1., 1., 1., 1., 1., 1., 1., 1., 1., 1., 1., 1., 1., 1.],\n",
      "          [1., 1., 1., 1., 1., 1., 1., 1., 1., 1., 1., 1., 1., 1., 1., 1.],\n",
      "          [1., 1., 1., 1., 1., 1., 1., 1., 1., 1., 1., 1., 1., 1., 1., 1.],\n",
      "          [1., 1., 1., 1., 1., 1., 1., 1., 1., 1., 1., 1., 1., 1., 1., 1.],\n",
      "          [1., 1., 1., 1., 1., 1., 1., 1., 1., 1., 1., 1., 1., 1., 1., 1.]]]])\n",
      "tensor([[[[1., 2., 3., 3., 3., 3., 3., 3., 3., 3., 3., 3., 3., 3., 2., 1.],\n",
      "          [2., 4., 6., 6., 6., 6., 6., 6., 6., 6., 6., 6., 6., 6., 4., 2.],\n",
      "          [3., 6., 9., 9., 9., 9., 9., 9., 9., 9., 9., 9., 9., 9., 6., 3.],\n",
      "          [3., 6., 9., 9., 9., 9., 9., 9., 9., 9., 9., 9., 9., 9., 6., 3.],\n",
      "          [3., 6., 9., 9., 9., 9., 9., 9., 9., 9., 9., 9., 9., 9., 6., 3.],\n",
      "          [3., 6., 9., 9., 9., 9., 9., 9., 9., 9., 9., 9., 9., 9., 6., 3.],\n",
      "          [3., 6., 9., 9., 9., 9., 9., 9., 9., 9., 9., 9., 9., 9., 6., 3.],\n",
      "          [3., 6., 9., 9., 9., 9., 9., 9., 9., 9., 9., 9., 9., 9., 6., 3.],\n",
      "          [3., 6., 9., 9., 9., 9., 9., 9., 9., 9., 9., 9., 9., 9., 6., 3.],\n",
      "          [3., 6., 9., 9., 9., 9., 9., 9., 9., 9., 9., 9., 9., 9., 6., 3.],\n",
      "          [3., 6., 9., 9., 9., 9., 9., 9., 9., 9., 9., 9., 9., 9., 6., 3.],\n",
      "          [3., 6., 9., 9., 9., 9., 9., 9., 9., 9., 9., 9., 9., 9., 6., 3.],\n",
      "          [3., 6., 9., 9., 9., 9., 9., 9., 9., 9., 9., 9., 9., 9., 6., 3.],\n",
      "          [3., 6., 9., 9., 9., 9., 9., 9., 9., 9., 9., 9., 9., 9., 6., 3.],\n",
      "          [2., 4., 6., 6., 6., 6., 6., 6., 6., 6., 6., 6., 6., 6., 4., 2.],\n",
      "          [1., 2., 3., 3., 3., 3., 3., 3., 3., 3., 3., 3., 3., 3., 2., 1.]]]])\n"
     ]
    }
   ],
   "source": [
    "a = torch.ones((1,1,16,16)).float()\n",
    "print(a)\n",
    "b = torch.nn.functional.unfold(a, kernel_size = (3,3))\n",
    "c = torch.nn.functional.fold(b, output_size = (16,16), kernel_size = (3,3))\n",
    "print(c)"
   ]
  },
  {
   "cell_type": "code",
   "execution_count": null,
   "metadata": {},
   "outputs": [],
   "source": []
  }
 ],
 "metadata": {
  "kernelspec": {
   "display_name": "Python 3",
   "language": "python",
   "name": "python3"
  },
  "language_info": {
   "codemirror_mode": {
    "name": "ipython",
    "version": 3
   },
   "file_extension": ".py",
   "mimetype": "text/x-python",
   "name": "python",
   "nbconvert_exporter": "python",
   "pygments_lexer": "ipython3",
   "version": "3.8.5"
  }
 },
 "nbformat": 4,
 "nbformat_minor": 5
}
