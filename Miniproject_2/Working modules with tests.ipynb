{
 "cells": [
  {
   "cell_type": "markdown",
   "id": "8c3897c2",
   "metadata": {},
   "source": [
    "Each module will be given with tests to prove it's doing it's job properly and to save it here."
   ]
  },
  {
   "cell_type": "code",
   "execution_count": 1,
   "id": "1f2a848c",
   "metadata": {},
   "outputs": [],
   "source": [
    "# Acceptable imports for project\n",
    "from torch import empty , cat , arange\n",
    "from torch.nn.functional import fold , unfold\n",
    "import math\n",
    "\n",
    "# For testing need\n",
    "import torch\n",
    "import torch.nn as nn"
   ]
  },
  {
   "cell_type": "markdown",
   "id": "f10311fe",
   "metadata": {},
   "source": [
    "## ReLU"
   ]
  },
  {
   "cell_type": "code",
   "execution_count": 2,
   "id": "c676246d",
   "metadata": {},
   "outputs": [],
   "source": [
    "class relu(object) :\n",
    "    def __init__(self):\n",
    "        pass\n",
    "    def forward(self, input) :\n",
    "        self.input = input\n",
    "        self.positif_mask = (input > 0)\n",
    "        return self.positif_mask*(input)\n",
    "    def backward(self, gradwrtoutput) :\n",
    "        self.input.grad = self.positif_mask.int()*gradwrtoutput\n",
    "        return self.input.grad\n",
    "    def param(self) :\n",
    "        return []"
   ]
  },
  {
   "cell_type": "code",
   "execution_count": 3,
   "id": "60b3af2a",
   "metadata": {},
   "outputs": [
    {
     "name": "stdout",
     "output_type": "stream",
     "text": [
      "Difference in forward is: 0.0\n",
      "From this output:\n",
      " tensor([[[[ 0.9347, -1.4478,  0.5376,  0.8076,  0.2545],\n",
      "          [-1.7724, -1.8240,  0.0732, -0.3471,  1.7135],\n",
      "          [ 0.4637,  0.5677,  0.3336, -1.1756, -0.5032],\n",
      "          [-0.6376,  0.4356, -0.8471, -0.6774,  0.7598],\n",
      "          [-0.8678,  1.1373, -0.7558,  0.8859, -0.8557]]]])\n",
      "We get the following backward:\n",
      " tensor([[[[0.9347, -0.0000, 0.5376, 0.8076, 0.2545],\n",
      "          [-0.0000, -0.0000, 0.0732, -0.0000, 1.7135],\n",
      "          [0.4637, 0.5677, 0.3336, -0.0000, -0.0000],\n",
      "          [-0.0000, 0.4356, -0.0000, -0.0000, 0.7598],\n",
      "          [-0.0000, 1.1373, -0.0000, 0.8859, -0.0000]]]])\n"
     ]
    }
   ],
   "source": [
    "dummy_input = torch.randn(10, 5, 7, 3)\n",
    "dummy_input2 = dummy_input.detach()\n",
    "\n",
    "our_M = relu()\n",
    "true_M = nn.ReLU()\n",
    "\n",
    "out = our_M.forward(dummy_input)\n",
    "out2 = true_M(dummy_input2)\n",
    "\n",
    "print('Difference in forward is:', (out-out2).abs().sum().item())\n",
    "\n",
    "dummy_output = torch.randn(1, 1, 5, 5)\n",
    "print('From this output:\\n',dummy_output)\n",
    "_ = our_M.forward(dummy_output)\n",
    "grad = our_M.backward(dummy_output)\n",
    "print('We get the following backward:\\n',grad)"
   ]
  },
  {
   "cell_type": "markdown",
   "id": "11ec1273",
   "metadata": {},
   "source": [
    "## Sigmoid"
   ]
  },
  {
   "cell_type": "code",
   "execution_count": 4,
   "id": "04fadef3",
   "metadata": {},
   "outputs": [],
   "source": [
    "class sigmoid(object) :\n",
    "    def forward(self, input) :\n",
    "        self.input = input\n",
    "        self.output = 1/(1 + math.e**(-input))\n",
    "        return  self.output\n",
    "    def backward(self, gradwrtoutput ) :\n",
    "        self.input.grad = self.output * (1-self.output) * gradwrtoutput\n",
    "        return self.input.grad\n",
    "    def param(self):\n",
    "        return []"
   ]
  },
  {
   "cell_type": "code",
   "execution_count": 5,
   "id": "f577bcaf",
   "metadata": {},
   "outputs": [
    {
     "name": "stdout",
     "output_type": "stream",
     "text": [
      "Target is\n",
      " tensor([[[[ 0.2954, -0.8879,  1.2444],\n",
      "          [ 0.0141, -0.0957,  0.7210],\n",
      "          [ 0.5257,  1.0216,  0.6270]]]])\n",
      "Input is\n",
      " tensor([[[[-0.0860, -0.1146, -0.0208],\n",
      "          [ 0.2921,  0.8930,  0.1834],\n",
      "          [-0.1209,  1.2303,  0.6453]]]], requires_grad=True)\n",
      "Difference in output: 5.960464477539063e-08\n"
     ]
    }
   ],
   "source": [
    "target = torch.randn(1, 1, 3, 3)\n",
    "print('Target is\\n',target)\n",
    "\n",
    "input = torch.randn(1, 1, 3, 3, requires_grad=True)\n",
    "input2 = input.detach().requires_grad_(True)\n",
    "\n",
    "print('Input is\\n',input)\n",
    "model = sigmoid()\n",
    "model2 = torch.nn.Sigmoid()\n",
    "\n",
    "out = model.forward(input)\n",
    "out2 = model2.forward(input2)\n",
    "\n",
    "print('Difference in output:', (out-out2).abs().sum().item())"
   ]
  },
  {
   "cell_type": "markdown",
   "id": "ee6d0f86",
   "metadata": {},
   "source": [
    "## MSE"
   ]
  },
  {
   "cell_type": "code",
   "execution_count": 6,
   "id": "d8a24e5e",
   "metadata": {},
   "outputs": [],
   "source": [
    "class mse(object):\n",
    "    def forward(self, input, target):\n",
    "        self.input = input\n",
    "        self.target = target\n",
    "        return (input - target).pow(2).mean()\n",
    "    def backward(self, gradwrtoutput):\n",
    "        self.input.grad = 2*(self.input-self.target)/(self.input.size(-3)*self.input.size(-2)*self.input.size(-1))\n",
    "    def param(self):\n",
    "        return []"
   ]
  },
  {
   "cell_type": "code",
   "execution_count": 7,
   "id": "d076994f",
   "metadata": {},
   "outputs": [
    {
     "name": "stdout",
     "output_type": "stream",
     "text": [
      "Our Loss is 0.38880398869514465 while true loss is 0.38880398869514465\n",
      "Difference in backward is: 9.313225746154785e-09\n"
     ]
    }
   ],
   "source": [
    "MSE = nn.MSELoss()\n",
    "my_mse = mse()\n",
    "\n",
    "loss = my_mse.forward(out, target)\n",
    "loss2 = MSE(out2, target)\n",
    "\n",
    "print('Our Loss is',loss.item(), 'while true loss is', loss2.item())\n",
    "my_mse.backward(loss)\n",
    "model.backward(my_mse.input.grad)\n",
    "\n",
    "loss2.backward()\n",
    "\n",
    "print('Difference in backward is:', (input.grad-input2.grad).abs().sum().item())"
   ]
  },
  {
   "cell_type": "markdown",
   "id": "8f61312a",
   "metadata": {},
   "source": [
    "## Convolution"
   ]
  },
  {
   "cell_type": "code",
   "execution_count": 8,
   "id": "7bdddce0",
   "metadata": {},
   "outputs": [],
   "source": [
    "class convolution(object):\n",
    "    def __init__(self, in_ch, out_ch, kernel_size = (3,3), padding = 0, stride = 1, use_bias = False):\n",
    "        self.in_ch = in_ch\n",
    "        self.out_ch = out_ch\n",
    "        self.kernel_size = kernel_size\n",
    "        self.k = self.kernel_size[0]\n",
    "        self.use_bias = use_bias\n",
    "        self.stride = stride\n",
    "        self.padding = padding\n",
    "        self.kernel = empty(out_ch, in_ch, self.k, self.k).normal_()\n",
    "        self.bias = empty(out_ch).normal_() if use_bias else torch.zeros(out_ch)\n",
    "        \n",
    "    def forward(self, x):   \n",
    "        \n",
    "        self.batch_size = x.size(0)\n",
    "        self.s_in = x.size(-1)\n",
    "        self.s_out = int(math.ceil((x.size(-2)-self.k+1+self.padding*2)/(self.stride)))\n",
    "        \n",
    "        X_unf = unfold(x, kernel_size=(self.k, self.k), padding = self.padding, stride = self.stride)\n",
    "        \n",
    "        self.x = x\n",
    "        self.X_unf = X_unf\n",
    "    \n",
    "        K_expand = self.kernel.view(self.out_ch, -1)\n",
    "        O_expand = K_expand @ X_unf\n",
    "\n",
    "        \n",
    "        O = O_expand.view(self.batch_size, self.out_ch, self.s_out, self.s_out)\n",
    "        return O + self.bias.view(1, -1, 1, 1) if self.use_bias else O\n",
    "    \n",
    "    def backward(self, gradwrtoutput):\n",
    "        dL_dO = gradwrtoutput                                       # (B x OUT_CH x SO x SO)\n",
    "        dO_dX = self.kernel                                         # (OUT_CH x IN_CH x SI x SI)\n",
    "\n",
    "        dL_dO_exp = dL_dO.reshape(self.batch_size, self.out_ch, -1) # (B x OUT_CH x (SO x SO))\n",
    "        dO_dX_exp = dO_dX.reshape(self.out_ch,-1).transpose(0,1)    # (OUT_CH x (IN_CH x SI x SI))\n",
    "        dL_dO_unf = dO_dX_exp @ dL_dO_exp                           # (B x (IN_CH x SI x SI) x (SO x SO))\n",
    "\n",
    "        dL_dX = fold(dL_dO_unf, kernel_size = (self.k, self.k), padding = self.padding, stride = self.stride, output_size = (self.s_in, self.s_in))\n",
    "        \n",
    "        # backward wrt weights\n",
    "        dL_dO_exp = dL_dO.transpose(0,1).reshape(self.out_ch, -1) # (OUT_CH x (B x SO x SO))\n",
    "        dO_dF_exp = self.X_unf.transpose(-1, -2).reshape(self.batch_size*self.s_out*self.s_out, -1) # ((B x SO x SO) x (IN_CH x K x K))\n",
    "        dL_dF_exp = dL_dO_exp @ dO_dF_exp # (OUT_CH x  (IN_CH x K x K))\n",
    "        \n",
    "        self.dL_dF = dL_dF_exp.view(self.out_ch, self.in_ch, self.k, self.k)\n",
    "        \n",
    "        # backward wrt bias\n",
    "        if self.use_bias:\n",
    "            dO_dB_exp = 1+0*empty(self.batch_size * (self.s_out) * (self.s_out))\n",
    "            self.dL_dB = dL_dO_exp @ dO_dB_exp\n",
    "        else:\n",
    "            self.dL_dB = None\n",
    "        \n",
    "        return dL_dX, self.dL_dF, self.dL_dB\n",
    "        \n",
    "    def param(self) :\n",
    "        return ((self.kernel, self.dL_dF), (self.bias, self.dL_dB))"
   ]
  },
  {
   "cell_type": "code",
   "execution_count": 9,
   "id": "daf26713",
   "metadata": {},
   "outputs": [
    {
     "name": "stdout",
     "output_type": "stream",
     "text": [
      "same output of conv:  2.884119749069214e-05\n",
      "same input gradient:  1.1205673217773438e-05\n",
      "same weigth gradient:  2.2411346435546875e-05\n",
      "same bias gradient:  0.0\n"
     ]
    }
   ],
   "source": [
    "# Initial parameters\n",
    "s_1, s_2 = 7,7\n",
    "k_1, k_2 = 3,3\n",
    "bs = 2\n",
    "ch_in, ch_out = 2, 4\n",
    "stride = 2\n",
    "padding = 1\n",
    "# input tensor \n",
    "X = torch.empty(bs, ch_in, s_1, s_2).normal_().requires_grad_()\n",
    "X_copy = X.clone().detach().requires_grad_()\n",
    "\n",
    "# initialize convolution moduls\n",
    "conv = convolution(ch_in, ch_out, kernel_size = (k_1, k_2), padding = padding, use_bias=True, stride = stride)\n",
    "\n",
    "# get weigts and bias\n",
    "F = conv.kernel\n",
    "B = conv.bias\n",
    "F.requires_grad_()\n",
    "B.requires_grad_()\n",
    "\n",
    "# forward\n",
    "out = conv.forward(X)\n",
    "out_compare = torch.nn.functional.conv2d(X_copy, F, bias = B, stride = stride, padding=padding)\n",
    "\n",
    "# backward\n",
    "dL_dX, dL_dF, dL_dB = conv.backward(out/out)\n",
    "out_compare.backward(out_compare/out_compare)\n",
    "\n",
    "print('same output of conv: ', (out_compare - out).abs().sum().item()) \n",
    "print('same input gradient: ', (X_copy.grad - dL_dX).abs().sum().item())\n",
    "print('same weigth gradient: ',(F.grad-dL_dF).abs().sum().item())\n",
    "print('same bias gradient: ',(B.grad-dL_dB).abs().sum().item())"
   ]
  },
  {
   "cell_type": "markdown",
   "id": "5b17ac57",
   "metadata": {},
   "source": [
    "## Transposed Convolution"
   ]
  },
  {
   "cell_type": "code",
   "execution_count": 10,
   "id": "008b81af",
   "metadata": {},
   "outputs": [],
   "source": [
    "class transposed_convolution(object):\n",
    "    def __init__(self, in_ch, out_ch, kernel_size = (3,3), padding = 0, stride = 1, use_bias = False):\n",
    "        self.in_ch = in_ch\n",
    "        self.out_ch = out_ch\n",
    "        self.kernel_size = kernel_size\n",
    "        self.k_1 = self.kernel_size[0]\n",
    "        self.k_2 = self.kernel_size[1]\n",
    "        self.use_bias = use_bias\n",
    "        self.stride = stride\n",
    "        self.padding = padding\n",
    "        self.kernel = empty(in_ch, out_ch, self.k_1, self.k_2).normal_()\n",
    "        self.bias = empty(out_ch).normal_() if use_bias else 0*empty(out_ch)\n",
    "    def forward(self, x):\n",
    "        self.x = x\n",
    "        self.batch_size = x.size(0)\n",
    "        self.s1 = self.x.size(-2)\n",
    "        self.s2 = self.x.size(-1)\n",
    "        o1 = (self.s1 - 1)*self.stride + 1 + self.k_1 - 1 - self.padding *2\n",
    "        o2 = (self.s2 - 1)*self.stride + 1 + self.k_2 - 1 - self.padding *2\n",
    "        \n",
    "        self.o1 = o1\n",
    "        self.o2 = o2\n",
    "        \n",
    "        x_exp = x.reshape(self.batch_size, self.in_ch, -1)\n",
    "        K_exp = self.kernel.reshape(self.in_ch,-1).transpose(0,1)\n",
    "        O_unf = K_exp @ x_exp\n",
    "        out = fold(O_unf, kernel_size = (self.k_1, self.k_2), padding = self.padding, stride = self.stride, output_size = (o1,o2))\n",
    "        \n",
    "        return out + self.bias.view(1, -1, 1, 1) if self.use_bias else out\n",
    "    \n",
    "    def backward(self, gradwrtoutput):\n",
    "        dL_dO = gradwrtoutput      # B x OUT_CH x SO x SO\n",
    "        dO_dX = self.kernel\n",
    "        \n",
    "        dL_dO_unf = unfold(dL_dO, kernel_size = (self.k_1, self.k_2), padding = self.padding, stride = self.stride)\n",
    "                                   # B x (OUT_CH x K x K) x SI x SI\n",
    "        dO_dX_exp = dO_dX.view(self.in_ch, -1)\n",
    "        dL_dX_exp = dO_dX_exp @ dL_dO_unf\n",
    "        self.dL_dX = dL_dX_exp.view(self.batch_size, self.in_ch, self.s1, self.s2)\n",
    "        \n",
    "        self.dL_dO_unf_K = dL_dO_unf.transpose(0,1).reshape(self.out_ch * self.k_1 * self.k_2, -1).transpose(0,1)\n",
    "                                                                    # (B x SI x SI) x (OUT_CH x K x K)\n",
    "        self.dO_dF_exp = self.x.transpose(0,1).reshape(self.in_ch, -1)   # IN_CH x (B x SI x SI)\n",
    "        self.dL_dF_exp = self.dO_dF_exp @ self.dL_dO_unf_K                         # IN_CH x (OUT_CH x K x K)                                                                       \n",
    "        self.dL_dF = self.dL_dF_exp.view(self.in_ch, self.out_ch, self.k_1, self.k_2)  # OUT_CH x IN_CH x K x K\n",
    "        \n",
    "        dL_dO_exp = dL_dO.transpose(0,1).reshape(self.out_ch, -1)\n",
    "        dO_dB_exp = 1+0*empty(self.batch_size * (self.o1) * (self.o2))\n",
    "        self.dL_dB = dL_dO_exp @ dO_dB_exp\n",
    "        \n",
    "        return self.dL_dX, self.dL_dF, self.dL_dB\n",
    "        \n",
    "    def param(self) :\n",
    "        return ((self.kernel, self.dL_dF), (self.bias, self.dL_dB))"
   ]
  },
  {
   "cell_type": "code",
   "execution_count": 11,
   "id": "6ea77d02",
   "metadata": {},
   "outputs": [
    {
     "name": "stdout",
     "output_type": "stream",
     "text": [
      "Difference in forward is 1.9073486328125e-06\n",
      "Difference in backward is 0.0\n",
      "Difference in kernel grad is 2.765655517578125e-05\n",
      "Difference in bias grad is 0.0\n"
     ]
    }
   ],
   "source": [
    "padding = 2\n",
    "stride = 1\n",
    "in_ch = 3\n",
    "out_ch = 2\n",
    "batch_size = 5\n",
    "si = 5\n",
    "\n",
    "test = transposed_convolution(in_ch,out_ch, kernel_size = (3,3), use_bias = True, padding = padding, stride = stride)\n",
    "kernel_test = empty((in_ch,out_ch,3,3)).normal_() #torch.ones((1,1,3,3))\n",
    "bias_test = empty((out_ch)).normal_()\n",
    "test.kernel = kernel_test\n",
    "test.bias = bias_test\n",
    "kernel_comp = kernel_test.detach().requires_grad_(True)\n",
    "bias_comp = bias_test.detach().requires_grad_(True)\n",
    "input = empty((batch_size,in_ch,si,si)).normal_() #torch.ones((1,1,5,5))\n",
    "input_comp = input.detach().requires_grad_(True)\n",
    "output = test.forward(input)\n",
    "\n",
    "valid = nn.functional.conv_transpose2d(input_comp, kernel_comp, bias = bias_comp, padding = padding, stride = stride)\n",
    "print('Difference in forward is',(valid-output).abs().sum().item())\n",
    "\n",
    "valid.backward(valid/valid)\n",
    "\n",
    "dL_dX, dL_dF, dL_dB = test.backward(output/output)\n",
    "\n",
    "print('Difference in backward is',(dL_dX-input_comp.grad).abs().sum().item())\n",
    "print('Difference in kernel grad is',(dL_dF-kernel_comp.grad).abs().sum().item())\n",
    "print('Difference in bias grad is',(dL_dB-bias_comp.grad).abs().sum().item())"
   ]
  },
  {
   "cell_type": "code",
   "execution_count": null,
   "id": "dd98fa80",
   "metadata": {},
   "outputs": [],
   "source": []
  }
 ],
 "metadata": {
  "kernelspec": {
   "display_name": "Python 3 (ipykernel)",
   "language": "python",
   "name": "python3"
  },
  "language_info": {
   "codemirror_mode": {
    "name": "ipython",
    "version": 3
   },
   "file_extension": ".py",
   "mimetype": "text/x-python",
   "name": "python",
   "nbconvert_exporter": "python",
   "pygments_lexer": "ipython3",
   "version": "3.8.12"
  }
 },
 "nbformat": 4,
 "nbformat_minor": 5
}
