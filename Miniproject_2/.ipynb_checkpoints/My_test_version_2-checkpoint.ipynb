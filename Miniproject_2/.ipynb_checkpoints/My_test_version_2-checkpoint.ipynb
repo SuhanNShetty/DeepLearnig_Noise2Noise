{
 "cells": [
  {
   "cell_type": "code",
   "execution_count": 6,
   "id": "5ba34b85",
   "metadata": {},
   "outputs": [
    {
     "name": "stdout",
     "output_type": "stream",
     "text": [
      "tensor([[ 0.0403, -0.1511, -0.0645,  0.5949,  0.5493, -0.6859,  0.9748,  0.3300,\n",
      "         -0.2670,  0.1669,  0.6385, -0.5045, -0.4272, -0.4598, -0.9700,  0.8141,\n",
      "         -0.5619,  0.3955,  0.8985, -0.3746, -0.2748,  1.3046, -0.0819,  1.1020,\n",
      "         -0.2472]])\n",
      "tensor([[ 0.0403, -0.1511, -0.0645,  0.5949,  0.5493],\n",
      "        [-0.6859,  0.9748,  0.3300, -0.2670,  0.1669],\n",
      "        [ 0.6385, -0.5045, -0.4272, -0.4598, -0.9700],\n",
      "        [ 0.8141, -0.5619,  0.3955,  0.8985, -0.3746],\n",
      "        [-0.2748,  1.3046, -0.0819,  1.1020, -0.2472]])\n",
      "tensor([[-0.2472,  1.1020, -0.0819,  1.3046, -0.2748],\n",
      "        [-0.3746,  0.8985,  0.3955, -0.5619,  0.8141],\n",
      "        [-0.9700, -0.4598, -0.4272, -0.5045,  0.6385],\n",
      "        [ 0.1669, -0.2670,  0.3300,  0.9748, -0.6859],\n",
      "        [ 0.5493,  0.5949, -0.0645, -0.1511,  0.0403]])\n"
     ]
    }
   ],
   "source": [
    "from torch import empty , cat , arange\n",
    "from torch.nn.functional import fold , unfold\n",
    "\n",
    "kernel = empty((5,5)).normal_()\n",
    "print(kernel.view(1,-1))\n",
    "print(kernel)\n",
    "print(kernel.flip((0,1)))"
   ]
  },
  {
   "cell_type": "code",
   "execution_count": 8,
   "id": "e85a7345",
   "metadata": {},
   "outputs": [
    {
     "name": "stdout",
     "output_type": "stream",
     "text": [
      "tensor([[ 0.4067, -0.1804,  0.3611],\n",
      "        [ 1.9536, -1.0109, -1.1080],\n",
      "        [ 1.0401, -0.3296,  0.2743]])\n",
      "tensor([[ 0.2743, -0.3296,  1.0401],\n",
      "        [-1.1080, -1.0109,  1.9536],\n",
      "        [ 0.3611, -0.1804,  0.4067]])\n"
     ]
    }
   ],
   "source": [
    "kernel = empty((3,3)).normal_()\n",
    "print(kernel)\n",
    "print(kernel.flip(0,1))"
   ]
  },
  {
   "cell_type": "code",
   "execution_count": null,
   "id": "24efb6a6",
   "metadata": {},
   "outputs": [],
   "source": []
  }
 ],
 "metadata": {
  "kernelspec": {
   "display_name": "Python 3 (ipykernel)",
   "language": "python",
   "name": "python3"
  },
  "language_info": {
   "codemirror_mode": {
    "name": "ipython",
    "version": 3
   },
   "file_extension": ".py",
   "mimetype": "text/x-python",
   "name": "python",
   "nbconvert_exporter": "python",
   "pygments_lexer": "ipython3",
   "version": "3.8.12"
  }
 },
 "nbformat": 4,
 "nbformat_minor": 5
}
