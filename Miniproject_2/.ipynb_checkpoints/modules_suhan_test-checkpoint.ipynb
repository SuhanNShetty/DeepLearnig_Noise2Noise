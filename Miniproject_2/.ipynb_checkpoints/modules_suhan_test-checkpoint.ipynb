{
 "cells": [
  {
   "cell_type": "code",
   "execution_count": 1,
   "metadata": {},
   "outputs": [
    {
     "name": "stdout",
     "output_type": "stream",
     "text": [
      "cuda\n"
     ]
    }
   ],
   "source": [
    "import torch\n",
    "from model_2 import Model\n",
    "import matplotlib.pyplot as plt\n",
    "import torchvision.transforms as T \n",
    "from PIL import Image\n",
    "device =  'cuda' if torch.cuda.is_available() else 'cpu'\n",
    "print(device)\n",
    "\n",
    "model = Model()\n",
    "\n",
    "path_train = '../data/train_data.pkl'\n",
    "path_val = '../data/val_data.pkl'\n",
    "\n",
    "noisy_imgs_1, noisy_imgs_2 = torch.load(path_train)\n",
    "noisy_imgs_1 = noisy_imgs_1[0:1000].to(device)\n",
    "noisy_imgs_2 = noisy_imgs_2[0:1000].to(device)\n",
    "\n",
    "noisy_imgs , clean_imgs = torch.load(path_val)\n",
    "# noisy_imgs = noisy_imgs.float()/256\n",
    "# clean_imgs = clean_imgs.float()/256\n"
   ]
  },
  {
   "cell_type": "code",
   "execution_count": 2,
   "metadata": {},
   "outputs": [
    {
     "name": "stdout",
     "output_type": "stream",
     "text": [
      "cuda\n"
     ]
    },
    {
     "ename": "NameError",
     "evalue": "name 'tar' is not defined",
     "output_type": "error",
     "traceback": [
      "\u001b[1;31m---------------------------------------------------------------------------\u001b[0m",
      "\u001b[1;31mNameError\u001b[0m                                 Traceback (most recent call last)",
      "Input \u001b[1;32mIn [2]\u001b[0m, in \u001b[0;36m<cell line: 3>\u001b[1;34m()\u001b[0m\n\u001b[0;32m      1\u001b[0m \u001b[38;5;28mprint\u001b[39m(model\u001b[38;5;241m.\u001b[39mdevice)\n\u001b[1;32m----> 3\u001b[0m \u001b[43mtar\u001b[49m\n",
      "\u001b[1;31mNameError\u001b[0m: name 'tar' is not defined"
     ]
    }
   ],
   "source": [
    "print(model.device)\n",
    "\n",
    "tar"
   ]
  },
  {
   "cell_type": "code",
   "execution_count": null,
   "metadata": {},
   "outputs": [
    {
     "name": "stderr",
     "output_type": "stream",
     "text": [
      "  0%|▍                                                                               | 1/200 [00:22<1:15:00, 22.62s/it]"
     ]
    }
   ],
   "source": [
    "model.optimizer.lr = 1e-3\n",
    "model.optimizer.set_momentum(0.1)\n",
    "model.train(noisy_imgs_1, noisy_imgs_2, 200)\n",
    "\n",
    "out = model.predict(noisy_imgs)"
   ]
  },
  {
   "cell_type": "code",
   "execution_count": null,
   "metadata": {},
   "outputs": [],
   "source": [
    "import matplotlib.pyplot as plt\n",
    "plt.plot(model.loss_train.cpu())"
   ]
  },
  {
   "cell_type": "code",
   "execution_count": null,
   "metadata": {},
   "outputs": [],
   "source": [
    "transform = T.ToPILImage()\n",
    "plt.figure(figsize = [10, 5])\n",
    "plt.subplot(1, 3,1)\n",
    "plt.imshow(transform(noisy_imgs[20]));\n",
    "plt.subplot(1, 3,2)\n",
    "plt.imshow(transform(out[20]/256));\n",
    "plt.subplot(1, 3,3)\n",
    "plt.imshow(transform(clean_imgs[20]));"
   ]
  },
  {
   "cell_type": "code",
   "execution_count": null,
   "metadata": {},
   "outputs": [],
   "source": []
  }
 ],
 "metadata": {
  "kernelspec": {
   "display_name": "Python 3 (ipykernel)",
   "language": "python",
   "name": "python3"
  },
  "language_info": {
   "codemirror_mode": {
    "name": "ipython",
    "version": 3
   },
   "file_extension": ".py",
   "mimetype": "text/x-python",
   "name": "python",
   "nbconvert_exporter": "python",
   "pygments_lexer": "ipython3",
   "version": "3.8.12"
  }
 },
 "nbformat": 4,
 "nbformat_minor": 4
}
