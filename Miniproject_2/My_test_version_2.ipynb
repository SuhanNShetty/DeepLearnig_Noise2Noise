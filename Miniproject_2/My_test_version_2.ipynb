{
 "cells": [
  {
   "cell_type": "code",
   "execution_count": 1,
   "id": "5ba34b85",
   "metadata": {},
   "outputs": [
    {
     "name": "stdout",
     "output_type": "stream",
     "text": [
      "tensor([[-1.4051, -1.7177, -0.7964,  1.6586,  0.3451,  1.2268, -0.7717, -1.3647,\n",
      "         -1.2632,  0.4795,  1.0399,  1.0148, -0.8453, -0.0493, -0.0384,  0.0330,\n",
      "         -0.4317,  1.1544,  0.1728,  1.1966, -1.0152, -1.2436,  1.4244,  0.3388,\n",
      "         -0.2548]])\n",
      "tensor([[-1.4051, -1.7177, -0.7964,  1.6586,  0.3451],\n",
      "        [ 1.2268, -0.7717, -1.3647, -1.2632,  0.4795],\n",
      "        [ 1.0399,  1.0148, -0.8453, -0.0493, -0.0384],\n",
      "        [ 0.0330, -0.4317,  1.1544,  0.1728,  1.1966],\n",
      "        [-1.0152, -1.2436,  1.4244,  0.3388, -0.2548]])\n",
      "tensor([[-0.2548,  0.3388,  1.4244, -1.2436, -1.0152],\n",
      "        [ 1.1966,  0.1728,  1.1544, -0.4317,  0.0330],\n",
      "        [-0.0384, -0.0493, -0.8453,  1.0148,  1.0399],\n",
      "        [ 0.4795, -1.2632, -1.3647, -0.7717,  1.2268],\n",
      "        [ 0.3451,  1.6586, -0.7964, -1.7177, -1.4051]])\n"
     ]
    }
   ],
   "source": [
    "import torch\n",
    "from torch import empty , cat , arange\n",
    "from torch.nn.functional import fold , unfold\n",
    "\n",
    "kernel = empty((5,5)).normal_()\n",
    "print(kernel.view(1,-1))\n",
    "print(kernel)\n",
    "print(kernel.flip((0,1)))"
   ]
  },
  {
   "cell_type": "code",
   "execution_count": 2,
   "id": "e85a7345",
   "metadata": {},
   "outputs": [
    {
     "name": "stdout",
     "output_type": "stream",
     "text": [
      "tensor([[ 0.8814,  0.1914,  0.3235],\n",
      "        [ 0.4294,  0.3043, -1.0695],\n",
      "        [-0.5244,  0.2586,  0.4543]])\n",
      "tensor([[ 0.4543,  0.2586, -0.5244],\n",
      "        [-1.0695,  0.3043,  0.4294],\n",
      "        [ 0.3235,  0.1914,  0.8814]])\n"
     ]
    }
   ],
   "source": [
    "kernel = empty((3,3)).normal_()\n",
    "print(kernel)\n",
    "print(kernel.flip(0,1))"
   ]
  },
  {
   "cell_type": "code",
   "execution_count": 146,
   "id": "24efb6a6",
   "metadata": {},
   "outputs": [
    {
     "name": "stdout",
     "output_type": "stream",
     "text": [
      "torch.Size([1, 1, 6, 6])\n",
      "tensor([[[[1., 1., 1., 1., 1., 1.],\n",
      "          [1., 1., 1., 1., 1., 1.],\n",
      "          [1., 1., 1., 1., 1., 1.],\n",
      "          [1., 1., 1., 1., 1., 1.],\n",
      "          [1., 1., 1., 1., 1., 1.],\n",
      "          [1., 1., 1., 1., 1., 1.]]]])\n"
     ]
    }
   ],
   "source": [
    "im_size = 2\n",
    "\n",
    "k_size = 3\n",
    "padding_input = 0\n",
    "p_size = k_size -1\n",
    "\n",
    "image = torch.empty((1,1,im_size,im_size)).normal_()\n",
    "kernel = torch.empty((1,1,k_size,k_size)).normal_()\n",
    "\n",
    "image = torch.ones((1,1,im_size,im_size))\n",
    "kernel = torch.ones((1,1,k_size,k_size))\n",
    "padded_kernel = torch.nn.functional.pad(kernel, (padding_input, padding_input, padding_input, padding_input))\n",
    "\n",
    "test = torch.nn.functional.conv_transpose2d(image, kernel, stride=3, padding = 0)\n",
    "test2 = torch.nn.functional.conv_transpose2d(image, padded_kernel, stride=1, padding = 0)\n",
    "\n",
    "print(test.shape)\n",
    "print(test)"
   ]
  },
  {
   "cell_type": "code",
   "execution_count": 95,
   "id": "60ae3374",
   "metadata": {},
   "outputs": [
    {
     "name": "stdout",
     "output_type": "stream",
     "text": [
      "tensor([[[[1., 2., 2., 1.],\n",
      "          [2., 4., 4., 2.],\n",
      "          [2., 4., 4., 2.],\n",
      "          [1., 2., 2., 1.]]]])\n"
     ]
    }
   ],
   "source": [
    "unfolded = unfold(image, kernel_size = k_size, stride = 1, padding=p_size)\n",
    "out = kernel.view(1, -1) @ unfolded\n",
    "result = out.view(1, 1, im_size+p_size, im_size+p_size)\n",
    "print(result)"
   ]
  },
  {
   "cell_type": "code",
   "execution_count": 93,
   "id": "f1479f46",
   "metadata": {},
   "outputs": [
    {
     "name": "stdout",
     "output_type": "stream",
     "text": [
      "tensor([[[[1., 2., 1.],\n",
      "          [2., 4., 2.],\n",
      "          [1., 2., 1.]]]])\n"
     ]
    }
   ],
   "source": [
    "folded = fold(unfolded, (im_size,im_size), k_size)\n",
    "print(folded)"
   ]
  },
  {
   "cell_type": "code",
   "execution_count": 82,
   "id": "5716d527",
   "metadata": {},
   "outputs": [
    {
     "data": {
      "text/plain": [
       "tensor([[[1.],\n",
       "         [2.],\n",
       "         [2.],\n",
       "         [1.],\n",
       "         [2.],\n",
       "         [4.],\n",
       "         [4.],\n",
       "         [2.],\n",
       "         [2.],\n",
       "         [4.],\n",
       "         [4.],\n",
       "         [2.],\n",
       "         [1.],\n",
       "         [2.],\n",
       "         [2.],\n",
       "         [1.]]])"
      ]
     },
     "execution_count": 82,
     "metadata": {},
     "output_type": "execute_result"
    }
   ],
   "source": [
    "out.transpose(1,2)"
   ]
  },
  {
   "cell_type": "code",
   "execution_count": null,
   "id": "5f8e32df",
   "metadata": {},
   "outputs": [],
   "source": []
  }
 ],
 "metadata": {
  "kernelspec": {
   "display_name": "Python 3 (ipykernel)",
   "language": "python",
   "name": "python3"
  },
  "language_info": {
   "codemirror_mode": {
    "name": "ipython",
    "version": 3
   },
   "file_extension": ".py",
   "mimetype": "text/x-python",
   "name": "python",
   "nbconvert_exporter": "python",
   "pygments_lexer": "ipython3",
   "version": "3.8.12"
  }
 },
 "nbformat": 4,
 "nbformat_minor": 5
}
