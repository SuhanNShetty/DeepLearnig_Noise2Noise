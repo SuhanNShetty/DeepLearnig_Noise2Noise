{
 "cells": [
  {
   "cell_type": "code",
   "execution_count": 22,
   "metadata": {},
   "outputs": [
    {
     "name": "stdout",
     "output_type": "stream",
     "text": [
      "cuda\n"
     ]
    }
   ],
   "source": [
    "import torch\n",
    "import torch.nn as nn\n",
    "from tqdm import tqdm\n",
    "from torch.optim import SGD as torch_SGD\n",
    "from model_2 import Model\n",
    "import matplotlib.pyplot as plt\n",
    "import torchvision.transforms as T \n",
    "from PIL import Image\n",
    "device =  'cuda' if torch.cuda.is_available() else 'cpu'\n",
    "print(device)\n",
    "\n",
    "model = Model()\n",
    "\n",
    "path_train = '../data/train_data.pkl'\n",
    "path_val = '../data/val_data.pkl'\n",
    "\n",
    "noisy_imgs_1, noisy_imgs_2 = torch.load(path_train)\n",
    "noisy_imgs_1 = noisy_imgs_1[0:1000].to(device).float()/256\n",
    "noisy_imgs_2 = noisy_imgs_2[0:1000].to(device).float()/256\n",
    "\n",
    "noisy_imgs , clean_imgs = torch.load(path_val)\n",
    "noisy_imgs = noisy_imgs[0:10].to(device).float()/256\n",
    "clean_imgs = clean_imgs[0:10].to(device).float()/256\n"
   ]
  },
  {
   "cell_type": "code",
   "execution_count": 23,
   "metadata": {},
   "outputs": [
    {
     "name": "stderr",
     "output_type": "stream",
     "text": [
      "100%|██████████████████████████████████████████████████████████████████████████████████| 10/10 [00:00<00:00, 20.27it/s]\n"
     ]
    }
   ],
   "source": [
    "lr = 1e-2\n",
    "k = 3\n",
    "m= 32\n",
    "in_ch = 3\n",
    "stride = 2\n",
    "padding = 1\n",
    "output_padding =1\n",
    "device = 'cuda'\n",
    "bs = 2\n",
    "batch_size = 100\n",
    "\n",
    "inp_1 = noisy_imgs_1.clone().type(torch.float).split(batch_size)\n",
    "inp_2 = noisy_imgs_1.clone().type(torch.float).split(batch_size)\n",
    "tar_1 = noisy_imgs_2.clone().type(torch.float).split(batch_size)\n",
    "tar_2 = noisy_imgs_2.clone().type(torch.float).split(batch_size)\n",
    "inp_val_1 = noisy_imgs.clone()\n",
    "inp_val_2 = noisy_imgs.clone()\n",
    "tar_val_1 = clean_imgs.clone()\n",
    "tar_val_2 = clean_imgs.clone()\n",
    "\n",
    "nn_conv1 = nn.Conv2d(in_ch,m, kernel_size = (k,k), stride=stride, padding=padding, device=device)\n",
    "nn_conv2 = nn.Conv2d(m, 2*m, kernel_size = (k,k), stride=stride, padding=padding,device=device)\n",
    "nn_tconv1 = nn.ConvTranspose2d(2*m, m, kernel_size = (k,k), stride=stride, padding=padding,device=device, output_padding=output_padding)\n",
    "nn_tconv2 = nn.ConvTranspose2d(m, in_ch, kernel_size = (k,k), stride=stride, padding=padding,device=device, output_padding=output_padding)    \n",
    "\n",
    "torch_model = nn.Sequential(nn_conv1,nn.ReLU(),\n",
    "    nn_conv2,nn.ReLU(),\n",
    "    nn_tconv1,nn.ReLU(),\n",
    "    nn_tconv2,nn.Sigmoid()\n",
    "    )\n",
    "\n",
    "torch_optimizer = torch_SGD(torch_model.parameters(), lr = lr)\n",
    "torch_mse = nn.MSELoss()\n",
    "\n",
    "for e in tqdm(range(10)):\n",
    "    for i in range(len(inp_1)):\n",
    "        \n",
    "        torch_optimizer.zero_grad()\n",
    "        torch_out = torch_model(inp_1[i])\n",
    "        transform = T.ToPILImage()        \n",
    "        torch_loss = torch_mse(torch_out, tar_1[i])\n",
    "        torch_loss.backward()\n",
    "        torch_optimizer.step()"
   ]
  },
  {
   "cell_type": "code",
   "execution_count": 41,
   "metadata": {},
   "outputs": [
    {
     "name": "stdout",
     "output_type": "stream",
     "text": [
      "tensor(0.4854, device='cuda:0', grad_fn=<MeanBackward0>) tensor(0.5566, device='cuda:0', grad_fn=<MaxBackward1>) tensor(0.4193, device='cuda:0', grad_fn=<MinBackward1>)\n"
     ]
    },
    {
     "data": {
      "image/png": "[encoded data removed]",
      "text/plain": [
       "<Figure size 720x360 with 3 Axes>"
      ]
     },
     "metadata": {
      "needs_background": "light"
     },
     "output_type": "display_data"
    }
   ],
   "source": [
    "torch_out = torch_model(inp_val_1)\n",
    "\n",
    "print(torch_out[0].mean(), torch_out[0].max(), torch_out[0].min())\n",
    "\n",
    "transform = T.ToPILImage()\n",
    "plt.figure(figsize = [10, 5])\n",
    "plt.subplot(1, 3,1)\n",
    "plt.imshow(transform(inp_val_1[5]));\n",
    "plt.subplot(1, 3,2)\n",
    "plt.imshow(transform(torch_out[5]/256));\n",
    "plt.subplot(1, 3,3)\n",
    "plt.imshow(transform(tar_val_1[5]));"
   ]
  },
  {
   "cell_type": "code",
   "execution_count": 33,
   "metadata": {},
   "outputs": [],
   "source": [
    "inp_1 = noisy_imgs_1.clone().type(torch.float)\n",
    "tar_1 = noisy_imgs_2.clone().type(torch.float)\n",
    "inp_val_1 = noisy_imgs.clone()\n",
    "tar_val_1 = clean_imgs.clone()"
   ]
  },
  {
   "cell_type": "code",
   "execution_count": 35,
   "metadata": {},
   "outputs": [
    {
     "name": "stderr",
     "output_type": "stream",
     "text": [
      "100%|████████████████████████████████████████████████████████████████████████████████| 100/100 [00:48<00:00,  2.06it/s]\n"
     ]
    }
   ],
   "source": [
    "model.optimizer.lr = 1e-3\n",
    "model.optimizer.set_momentum(0.1)\n",
    "model.train(inp_1, tar_1, 100)"
   ]
  },
  {
   "cell_type": "code",
   "execution_count": 36,
   "metadata": {},
   "outputs": [],
   "source": [
    "out = model.predict(inp_val_1)"
   ]
  },
  {
   "cell_type": "code",
   "execution_count": 5,
   "metadata": {},
   "outputs": [
    {
     "data": {
      "text/plain": [
       "[<matplotlib.lines.Line2D at 0x2b20460b6a0>]"
      ]
     },
     "execution_count": 5,
     "metadata": {},
     "output_type": "execute_result"
    },
    {
     "data": {
      "image/png": "[encoded data removed]",
      "text/plain": [
       "<Figure size 432x288 with 1 Axes>"
      ]
     },
     "metadata": {
      "needs_background": "light"
     },
     "output_type": "display_data"
    }
   ],
   "source": [
    "import matplotlib.pyplot as plt\n",
    "plt.plot(model.loss_train.cpu())"
   ]
  },
  {
   "cell_type": "code",
   "execution_count": 39,
   "metadata": {},
   "outputs": [
    {
     "data": {
      "image/png": "[encoded data removed]",
      "text/plain": [
       "<Figure size 720x360 with 3 Axes>"
      ]
     },
     "metadata": {
      "needs_background": "light"
     },
     "output_type": "display_data"
    }
   ],
   "source": [
    "transform = T.ToPILImage()\n",
    "plt.figure(figsize = [10, 5])\n",
    "plt.subplot(1, 3,1)\n",
    "plt.imshow(transform(inp_val_1[5]));\n",
    "plt.subplot(1, 3,2)\n",
    "plt.imshow(transform(out[5]/256));\n",
    "plt.subplot(1, 3,3)\n",
    "plt.imshow(transform(tar_val_1[5]));"
   ]
  },
  {
   "cell_type": "code",
   "execution_count": null,
   "metadata": {},
   "outputs": [],
   "source": []
  }
 ],
 "metadata": {
  "kernelspec": {
   "display_name": "Python 3 (ipykernel)",
   "language": "python",
   "name": "python3"
  },
  "language_info": {
   "codemirror_mode": {
    "name": "ipython",
    "version": 3
   },
   "file_extension": ".py",
   "mimetype": "text/x-python",
   "name": "python",
   "nbconvert_exporter": "python",
   "pygments_lexer": "ipython3",
   "version": "3.8.12"
  }
 },
 "nbformat": 4,
 "nbformat_minor": 4
}
