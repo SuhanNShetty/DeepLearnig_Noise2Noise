{
 "cells": [
  {
   "cell_type": "code",
   "execution_count": 8,
   "id": "dutch-structure",
   "metadata": {},
   "outputs": [],
   "source": [
    "import torch\n",
    "from torch import empty\n",
    "\n",
    "from torch.nn.functional import fold, unfold\n",
    "\n",
    "\n",
    "torch.set_grad_enabled(False)\n",
    "\n",
    "if __name__ == \"__main__\" :\n",
    "    kernel_size = (2 , 2)\n",
    "    x = torch.randn((1 , 3 , 32 , 32) )\n",
    "    y = torch.randn((1 , 3 , 32 , 32) )\n",
    "    a = torch.randn((1 ,) )\n",
    "\n",
    "    out_channels = 4\n",
    "\n",
    "    conv = torch.nn.Conv2d( in_channels = x.shape[1], out_channels = out_channels, kernel_size = kernel_size, bias = False )\n",
    "\n",
    "    torch.testing.assert_allclose(a*conv(x) , conv(a*x))\n",
    "    torch.testing.assert_allclose(conv(x + y) , conv(x) + conv(y))"
   ]
  },
  {
   "cell_type": "code",
   "execution_count": 10,
   "id": "selected-ridge",
   "metadata": {},
   "outputs": [],
   "source": [
    "class MyConv():\n",
    "    def __init__():\n",
    "        pass\n",
    "    def forward():\n",
    "        pass"
   ]
  },
  {
   "cell_type": "code",
   "execution_count": null,
   "id": "raised-dependence",
   "metadata": {},
   "outputs": [],
   "source": []
  }
 ],
 "metadata": {
  "kernelspec": {
   "display_name": "Python 3",
   "language": "python",
   "name": "python3"
  },
  "language_info": {
   "codemirror_mode": {
    "name": "ipython",
    "version": 3
   },
   "file_extension": ".py",
   "mimetype": "text/x-python",
   "name": "python",
   "nbconvert_exporter": "python",
   "pygments_lexer": "ipython3",
   "version": "3.8.8"
  }
 },
 "nbformat": 4,
 "nbformat_minor": 5
}
